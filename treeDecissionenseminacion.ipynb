{
 "cells": [
  {
   "cell_type": "code",
   "execution_count": 1,
   "id": "49e6f22a",
   "metadata": {},
   "outputs": [],
   "source": [
    "from pyspark.sql import SparkSession\n",
    "from pyspark.sql.functions import col\n",
    "from pyspark.ml import Pipeline\n",
    "from pyspark.ml.classification import DecisionTreeClassifier\n",
    "from pyspark.ml.feature import StringIndexer, VectorIndexer, VectorAssembler\n",
    "from pyspark.ml.evaluation import MulticlassClassificationEvaluator"
   ]
  },
  {
   "cell_type": "code",
   "execution_count": 2,
   "id": "00da071c",
   "metadata": {},
   "outputs": [],
   "source": [
    "from spark_tree_plotting import plot_tree\n",
    "from spark_tree_plotting import export_graphviz"
   ]
  },
  {
   "cell_type": "code",
   "execution_count": 3,
   "id": "76566e22",
   "metadata": {},
   "outputs": [
    {
     "name": "stderr",
     "output_type": "stream",
     "text": [
      "21/11/29 19:53:50 WARN Utils: Your hostname, ubuntu resolves to a loopback address: 127.0.1.1; using 192.168.65.128 instead (on interface ens33)\n",
      "21/11/29 19:53:50 WARN Utils: Set SPARK_LOCAL_IP if you need to bind to another address\n",
      "WARNING: An illegal reflective access operation has occurred\n",
      "WARNING: Illegal reflective access by org.apache.spark.unsafe.Platform (file:/home/angel/.local/lib/python3.8/site-packages/pyspark/jars/spark-unsafe_2.12-3.1.2.jar) to constructor java.nio.DirectByteBuffer(long,int)\n",
      "WARNING: Please consider reporting this to the maintainers of org.apache.spark.unsafe.Platform\n",
      "WARNING: Use --illegal-access=warn to enable warnings of further illegal reflective access operations\n",
      "WARNING: All illegal access operations will be denied in a future release\n",
      "21/11/29 19:53:50 WARN NativeCodeLoader: Unable to load native-hadoop library for your platform... using builtin-java classes where applicable\n",
      "Using Spark's default log4j profile: org/apache/spark/log4j-defaults.properties\n",
      "Setting default log level to \"WARN\".\n",
      "To adjust logging level use sc.setLogLevel(newLevel). For SparkR, use setLogLevel(newLevel).\n"
     ]
    }
   ],
   "source": [
    "spark = SparkSession.builder.appName(\"homeworktree\").getOrCreate()"
   ]
  },
  {
   "cell_type": "code",
   "execution_count": 4,
   "id": "c4c511a3",
   "metadata": {},
   "outputs": [],
   "source": [
    "data = spark.read.csv(\"fertility_Diagnosis.txt\", inferSchema=True, header=True)\n",
    "# data = spark.read.format(\"libsvm\").load(\"audit_risk.csv\")"
   ]
  },
  {
   "cell_type": "code",
   "execution_count": 5,
   "id": "452edf44",
   "metadata": {},
   "outputs": [
    {
     "name": "stdout",
     "output_type": "stream",
     "text": [
      "+-----+----+------------+------------------+-----------------------+------+--------------------------+----------+------------------+-----------+\n",
      "|Epoca|Edad|Enfermedades|Accidente_o_trauma|Intervencion_quirurgica|Fiebre|Frecuencia_Consumo_Alcohol|Tabaquismo|num_Horas_Sentados|Diagnostico|\n",
      "+-----+----+------------+------------------+-----------------------+------+--------------------------+----------+------------------+-----------+\n",
      "|-0.33|0.69|           0|                 1|                      1|     0|                       0.8|         0|              0.88|          N|\n",
      "|-0.33|0.94|           1|                 0|                      1|     0|                       0.8|         1|              0.31|          O|\n",
      "|-0.33| 0.5|           1|                 0|                      0|     0|                       1.0|        -1|               0.5|          N|\n",
      "|-0.33|0.75|           0|                 1|                      1|     0|                       1.0|        -1|              0.38|          N|\n",
      "|-0.33|0.67|           1|                 1|                      0|     0|                       0.8|        -1|               0.5|          O|\n",
      "|-0.33|0.67|           1|                 0|                      1|     0|                       0.8|         0|               0.5|          N|\n",
      "|-0.33|0.67|           0|                 0|                      0|    -1|                       0.8|        -1|              0.44|          N|\n",
      "|-0.33| 1.0|           1|                 1|                      1|     0|                       0.6|        -1|              0.38|          N|\n",
      "|  1.0|0.64|           0|                 0|                      1|     0|                       0.8|        -1|              0.25|          N|\n",
      "|  1.0|0.61|           1|                 0|                      0|     0|                       1.0|        -1|              0.25|          N|\n",
      "|  1.0|0.67|           1|                 1|                      0|    -1|                       0.8|         0|              0.31|          N|\n",
      "|  1.0|0.78|           1|                 1|                      1|     0|                       0.6|         0|              0.13|          N|\n",
      "|  1.0|0.75|           1|                 1|                      1|     0|                       0.8|         1|              0.25|          N|\n",
      "|  1.0|0.81|           1|                 0|                      0|     0|                       1.0|        -1|              0.38|          N|\n",
      "|  1.0|0.94|           1|                 1|                      1|     0|                       0.2|        -1|              0.25|          N|\n",
      "|  1.0|0.81|           1|                 1|                      0|     0|                       1.0|         1|               0.5|          N|\n",
      "|  1.0|0.64|           1|                 0|                      1|     0|                       1.0|        -1|              0.38|          N|\n",
      "|  1.0|0.69|           1|                 0|                      1|     0|                       0.8|        -1|              0.25|          O|\n",
      "|  1.0|0.75|           1|                 1|                      1|     0|                       1.0|         1|              0.25|          N|\n",
      "|  1.0|0.67|           1|                 0|                      0|     0|                       0.8|         1|              0.38|          O|\n",
      "+-----+----+------------+------------------+-----------------------+------+--------------------------+----------+------------------+-----------+\n",
      "only showing top 20 rows\n",
      "\n"
     ]
    }
   ],
   "source": [
    "data.show()"
   ]
  },
  {
   "cell_type": "code",
   "execution_count": 6,
   "id": "8825f5d3",
   "metadata": {},
   "outputs": [
    {
     "data": {
      "text/plain": [
       "['Epoca',\n",
       " 'Edad',\n",
       " 'Enfermedades',\n",
       " 'Accidente_o_trauma',\n",
       " 'Intervencion_quirurgica',\n",
       " 'Fiebre',\n",
       " 'Frecuencia_Consumo_Alcohol',\n",
       " 'Tabaquismo',\n",
       " 'num_Horas_Sentados',\n",
       " 'Diagnostico']"
      ]
     },
     "execution_count": 6,
     "metadata": {},
     "output_type": "execute_result"
    }
   ],
   "source": [
    "data.columns"
   ]
  },
  {
   "cell_type": "markdown",
   "id": "c9c5941c",
   "metadata": {},
   "source": [
    "### Vectorizamos para crear features y indexamos Diagnostico"
   ]
  },
  {
   "cell_type": "code",
   "execution_count": 7,
   "id": "6bec34c5",
   "metadata": {},
   "outputs": [],
   "source": [
    "Diagnistic_Indexed = StringIndexer(inputCol='Diagnostico',outputCol='Diagnostico_Indexed')"
   ]
  },
  {
   "cell_type": "code",
   "execution_count": 8,
   "id": "158aac9f",
   "metadata": {},
   "outputs": [],
   "source": [
    "assembler = VectorAssembler(inputCols = [ \"Edad\",\n",
    "                                          \"Enfermedades\",\n",
    "                                          \"Accidente_o_trauma\",\n",
    "                                          \"Intervencion_quirurgica\",\n",
    "                                          \"Frecuencia_Consumo_Alcohol\",\n",
    "                                          \"Tabaquismo\",\n",
    "                                          \"num_Horas_Sentados\" \n",
    "],outputCol=\"features\")"
   ]
  },
  {
   "cell_type": "code",
   "execution_count": 9,
   "id": "15ee4af1",
   "metadata": {},
   "outputs": [],
   "source": [
    "feature_Indexer = VectorIndexer(inputCol=\"features\",outputCol=\"indexedFeatures\", maxCategories=4 )"
   ]
  },
  {
   "cell_type": "code",
   "execution_count": 10,
   "id": "6caaa481",
   "metadata": {},
   "outputs": [],
   "source": [
    "training_data, test_data = data.randomSplit([0.7,0.3])"
   ]
  },
  {
   "cell_type": "code",
   "execution_count": 11,
   "id": "be14d1ff",
   "metadata": {},
   "outputs": [],
   "source": [
    "dt = DecisionTreeClassifier(labelCol=\"Diagnostico_Indexed\",featuresCol=\"indexedFeatures\")"
   ]
  },
  {
   "cell_type": "code",
   "execution_count": 12,
   "id": "7b1ae7c3",
   "metadata": {},
   "outputs": [],
   "source": [
    "pipeline = Pipeline(stages=[Diagnistic_Indexed,assembler,feature_Indexer,dt])"
   ]
  },
  {
   "cell_type": "code",
   "execution_count": 13,
   "id": "e8e8b0aa",
   "metadata": {},
   "outputs": [],
   "source": [
    "fit_model = pipeline.fit(training_data)"
   ]
  },
  {
   "cell_type": "code",
   "execution_count": 14,
   "id": "a1fe8b56",
   "metadata": {},
   "outputs": [],
   "source": [
    "result = fit_model.transform(test_data)"
   ]
  },
  {
   "cell_type": "code",
   "execution_count": 15,
   "id": "d91e687f",
   "metadata": {},
   "outputs": [
    {
     "name": "stdout",
     "output_type": "stream",
     "text": [
      "+----------+-------------------+--------------------+\n",
      "|prediction|Diagnostico_Indexed|            features|\n",
      "+----------+-------------------+--------------------+\n",
      "|       0.0|                0.0|[0.5,1.0,0.0,0.0,...|\n",
      "|       0.0|                0.0|[0.53,1.0,1.0,0.0...|\n",
      "|       0.0|                0.0|[0.53,1.0,1.0,1.0...|\n",
      "|       0.0|                0.0|[0.58,1.0,0.0,1.0...|\n",
      "|       0.0|                0.0|[0.61,1.0,1.0,1.0...|\n",
      "+----------+-------------------+--------------------+\n",
      "only showing top 5 rows\n",
      "\n"
     ]
    }
   ],
   "source": [
    "result.select(\"prediction\",\"Diagnostico_Indexed\",\"features\").show(5)"
   ]
  },
  {
   "cell_type": "code",
   "execution_count": 16,
   "id": "4deb0938",
   "metadata": {},
   "outputs": [],
   "source": [
    "evaluator = MulticlassClassificationEvaluator(\n",
    "            labelCol = \"Diagnostico_Indexed\",\n",
    "            predictionCol=\"prediction\",\n",
    "            metricName=\"accuracy\"\n",
    ")"
   ]
  },
  {
   "cell_type": "code",
   "execution_count": 17,
   "id": "14be1cea",
   "metadata": {},
   "outputs": [],
   "source": [
    "accuracy = evaluator.evaluate(result)"
   ]
  },
  {
   "cell_type": "code",
   "execution_count": 18,
   "id": "7f33682d",
   "metadata": {},
   "outputs": [
    {
     "name": "stdout",
     "output_type": "stream",
     "text": [
      "Test Error = 0.26087 \n"
     ]
    }
   ],
   "source": [
    "print (\"Test Error = %g \" %(1.0-accuracy)) "
   ]
  },
  {
   "cell_type": "code",
   "execution_count": 19,
   "id": "d631397e",
   "metadata": {},
   "outputs": [],
   "source": [
    "treeModel = fit_model.stages[3]"
   ]
  },
  {
   "cell_type": "code",
   "execution_count": 31,
   "id": "485f8d9f",
   "metadata": {},
   "outputs": [
    {
     "name": "stdout",
     "output_type": "stream",
     "text": [
      "DecisionTreeClassificationModel: uid=DecisionTreeClassifier_6ac3f193ebfe, depth=5, numNodes=17, numClasses=2, numFeatures=7\n",
      "  If (feature 0 <= 0.655)\n",
      "   Predict: 0.0\n",
      "  Else (feature 0 > 0.655)\n",
      "   If (feature 0 <= 0.6799999999999999)\n",
      "    If (feature 6 <= 0.28)\n",
      "     Predict: 0.0\n",
      "    Else (feature 6 > 0.28)\n",
      "     If (feature 1 in {0.0})\n",
      "      If (feature 3 in {0.0})\n",
      "       Predict: 0.0\n",
      "      Else (feature 3 not in {0.0})\n",
      "       Predict: 1.0\n",
      "     Else (feature 1 not in {0.0})\n",
      "      Predict: 1.0\n",
      "   Else (feature 0 > 0.6799999999999999)\n",
      "    If (feature 6 <= 0.095)\n",
      "     Predict: 0.0\n",
      "    Else (feature 6 > 0.095)\n",
      "     If (feature 6 <= 0.41000000000000003)\n",
      "      Predict: 0.0\n",
      "     Else (feature 6 > 0.41000000000000003)\n",
      "      If (feature 6 <= 0.45499999999999996)\n",
      "       Predict: 1.0\n",
      "      Else (feature 6 > 0.45499999999999996)\n",
      "       Predict: 0.0\n",
      "\n"
     ]
    }
   ],
   "source": [
    "print(treeModel.toDebugString)"
   ]
  },
  {
   "cell_type": "code",
   "execution_count": null,
   "id": "f495c931",
   "metadata": {},
   "outputs": [],
   "source": [
    "fit_model."
   ]
  },
  {
   "cell_type": "markdown",
   "id": "fb1712e6",
   "metadata": {},
   "source": [
    "### GRAFICA DEL MODELO"
   ]
  },
  {
   "cell_type": "code",
   "execution_count": 21,
   "id": "59c47c65",
   "metadata": {},
   "outputs": [],
   "source": [
    "from PIL import Image\n",
    "import io"
   ]
  },
  {
   "cell_type": "code",
   "execution_count": 32,
   "id": "0828ffd6",
   "metadata": {},
   "outputs": [],
   "source": [
    "Diagnistic_Indexed_model = Diagnistic_Indexed.fit(data)"
   ]
  },
  {
   "cell_type": "code",
   "execution_count": 37,
   "id": "135cbc93",
   "metadata": {},
   "outputs": [
    {
     "ename": "TypeError",
     "evalue": "'JavaPackage' object is not callable",
     "output_type": "error",
     "traceback": [
      "\u001b[0;31m---------------------------------------------------------------------------\u001b[0m",
      "\u001b[0;31mTypeError\u001b[0m                                 Traceback (most recent call last)",
      "\u001b[0;32m/tmp/ipykernel_3097/1190563179.py\u001b[0m in \u001b[0;36m<module>\u001b[0;34m\u001b[0m\n\u001b[1;32m      7\u001b[0m              \u001b[0;34m\"num_Horas_Sentados\"\u001b[0m\u001b[0;34m\u001b[0m\u001b[0;34m\u001b[0m\u001b[0m\n\u001b[1;32m      8\u001b[0m             ]\n\u001b[0;32m----> 9\u001b[0;31m tree_plot = plot_tree(treeModel,\n\u001b[0m\u001b[1;32m     10\u001b[0m                       \u001b[0mfeatureNames\u001b[0m\u001b[0;34m=\u001b[0m \u001b[0mlist_name\u001b[0m\u001b[0;34m,\u001b[0m\u001b[0;34m\u001b[0m\u001b[0;34m\u001b[0m\u001b[0m\n\u001b[1;32m     11\u001b[0m \u001b[0;34m\u001b[0m\u001b[0m\n",
      "\u001b[0;32m~/Documents/notebooks/spark_tree_plotting.py\u001b[0m in \u001b[0;36mplot_tree\u001b[0;34m(DecisionTreeClassificationModel, featureNames, categoryNames, classNames, filled, roundedCorners, roundLeaves)\u001b[0m\n\u001b[1;32m    428\u001b[0m             )\n\u001b[1;32m    429\u001b[0m \u001b[0;34m\u001b[0m\u001b[0m\n\u001b[0;32m--> 430\u001b[0;31m     graph = graph_from_dot_data(export_graphviz(DecisionTreeClassificationModel,\n\u001b[0m\u001b[1;32m    431\u001b[0m                                                \u001b[0mfeatureNames\u001b[0m\u001b[0;34m=\u001b[0m\u001b[0mfeatureNames\u001b[0m\u001b[0;34m,\u001b[0m\u001b[0;34m\u001b[0m\u001b[0;34m\u001b[0m\u001b[0m\n\u001b[1;32m    432\u001b[0m                                                \u001b[0mcategoryNames\u001b[0m\u001b[0;34m=\u001b[0m\u001b[0mcategoryNames\u001b[0m\u001b[0;34m,\u001b[0m\u001b[0;34m\u001b[0m\u001b[0;34m\u001b[0m\u001b[0m\n",
      "\u001b[0;32m~/Documents/notebooks/spark_tree_plotting.py\u001b[0m in \u001b[0;36mexport_graphviz\u001b[0;34m(DecisionTreeClassificationModel, featureNames, categoryNames, classNames, filled, roundedCorners, roundLeaves)\u001b[0m\n\u001b[1;32m    343\u001b[0m     \u001b[0ma\u001b[0m \u001b[0mDOT\u001b[0m \u001b[0mstring\u001b[0m \u001b[0mready\u001b[0m \u001b[0mto\u001b[0m \u001b[0mbe\u001b[0m \u001b[0mprocessed\u001b[0m \u001b[0mby\u001b[0m \u001b[0many\u001b[0m \u001b[0mDOT\u001b[0m \u001b[0mhandling\u001b[0m \u001b[0mlibrary\u001b[0m\u001b[0;34m\u001b[0m\u001b[0;34m\u001b[0m\u001b[0m\n\u001b[1;32m    344\u001b[0m     \"\"\"\n\u001b[0;32m--> 345\u001b[0;31m     \u001b[0mtree_dict\u001b[0m \u001b[0;34m=\u001b[0m \u001b[0mloads\u001b[0m\u001b[0;34m(\u001b[0m\u001b[0mgenerate_tree_json\u001b[0m\u001b[0;34m(\u001b[0m\u001b[0mDecisionTreeClassificationModel\u001b[0m\u001b[0;34m,\u001b[0m \u001b[0mwithNodeIDs\u001b[0m\u001b[0;34m=\u001b[0m\u001b[0;32mFalse\u001b[0m\u001b[0;34m)\u001b[0m\u001b[0;34m)\u001b[0m\u001b[0;34m\u001b[0m\u001b[0;34m\u001b[0m\u001b[0m\n\u001b[0m\u001b[1;32m    346\u001b[0m     \u001b[0mnum_classes\u001b[0m \u001b[0;34m=\u001b[0m \u001b[0mget_num_classes\u001b[0m\u001b[0;34m(\u001b[0m\u001b[0mtree_dict\u001b[0m\u001b[0;34m)\u001b[0m\u001b[0;34m\u001b[0m\u001b[0;34m\u001b[0m\u001b[0m\n\u001b[1;32m    347\u001b[0m     \u001b[0mcolor_brew\u001b[0m \u001b[0;34m=\u001b[0m \u001b[0mgenerate_color_brew\u001b[0m\u001b[0;34m(\u001b[0m\u001b[0mnum_classes\u001b[0m\u001b[0;34m)\u001b[0m\u001b[0;34m\u001b[0m\u001b[0;34m\u001b[0m\u001b[0m\n",
      "\u001b[0;32m~/Documents/notebooks/spark_tree_plotting.py\u001b[0m in \u001b[0;36mgenerate_tree_json\u001b[0;34m(DecisionTreeClassificationModel, withNodeIDs)\u001b[0m\n\u001b[1;32m    296\u001b[0m     \u001b[0msc\u001b[0m \u001b[0;34m=\u001b[0m \u001b[0mSparkContext\u001b[0m\u001b[0;34m.\u001b[0m\u001b[0mgetOrCreate\u001b[0m\u001b[0;34m(\u001b[0m\u001b[0;34m)\u001b[0m\u001b[0;34m\u001b[0m\u001b[0;34m\u001b[0m\u001b[0m\n\u001b[1;32m    297\u001b[0m \u001b[0;34m\u001b[0m\u001b[0m\n\u001b[0;32m--> 298\u001b[0;31m     \u001b[0mjson_tree\u001b[0m \u001b[0;34m=\u001b[0m \u001b[0msc\u001b[0m\u001b[0;34m.\u001b[0m\u001b[0m_jvm\u001b[0m\u001b[0;34m.\u001b[0m\u001b[0mcom\u001b[0m\u001b[0;34m.\u001b[0m\u001b[0mvfive\u001b[0m\u001b[0;34m.\u001b[0m\u001b[0mspark\u001b[0m\u001b[0;34m.\u001b[0m\u001b[0mml\u001b[0m\u001b[0;34m.\u001b[0m\u001b[0mSparkMLTree\u001b[0m\u001b[0;34m(\u001b[0m\u001b[0mDecisionTreeClassificationModel\u001b[0m\u001b[0;34m.\u001b[0m\u001b[0m_java_obj\u001b[0m\u001b[0;34m)\u001b[0m\u001b[0;34m.\u001b[0m\u001b[0mtoJsonPlotFormat\u001b[0m\u001b[0;34m(\u001b[0m\u001b[0;34m)\u001b[0m\u001b[0;34m\u001b[0m\u001b[0;34m\u001b[0m\u001b[0m\n\u001b[0m\u001b[1;32m    299\u001b[0m \u001b[0;34m\u001b[0m\u001b[0m\n\u001b[1;32m    300\u001b[0m     \u001b[0;32mif\u001b[0m \u001b[0mwithNodeIDs\u001b[0m\u001b[0;34m:\u001b[0m\u001b[0;34m\u001b[0m\u001b[0;34m\u001b[0m\u001b[0m\n",
      "\u001b[0;31mTypeError\u001b[0m: 'JavaPackage' object is not callable"
     ]
    }
   ],
   "source": [
    "list_name = [\"Edad\",\n",
    "             \"Enfermedades\",\n",
    "             \"Accidente_o_trauma\",\n",
    "             \"Intervencion_quirurgica\",\n",
    "              \"Frecuencia_Consumo_Alcohol\",\n",
    "             \"Tabaquismo\",\n",
    "             \"num_Horas_Sentados\"\n",
    "            ]\n",
    "tree_plot = plot_tree(treeModel,\n",
    "                      featureNames= list_name,\n",
    "                    \n",
    "                      classNames=Diagnistic_Indexed_model.labels,\n",
    "                      filled=True,\n",
    "                      roundedCorners=True,\n",
    "                      roundLeaves=True)\n",
    "\n",
    "from IPython.display import Image\n",
    "\n",
    "Image(tree_plot)"
   ]
  },
  {
   "cell_type": "code",
   "execution_count": 39,
   "id": "4fdce74e",
   "metadata": {},
   "outputs": [
    {
     "ename": "AttributeError",
     "evalue": "'DataFrame' object has no attribute '_jvm'",
     "output_type": "error",
     "traceback": [
      "\u001b[0;31m---------------------------------------------------------------------------\u001b[0m",
      "\u001b[0;31mAttributeError\u001b[0m                            Traceback (most recent call last)",
      "\u001b[0;32m/tmp/ipykernel_3097/1120233165.py\u001b[0m in \u001b[0;36m<module>\u001b[0;34m\u001b[0m\n\u001b[0;32m----> 1\u001b[0;31m \u001b[0mjson_tree\u001b[0m \u001b[0;34m=\u001b[0m \u001b[0mdata\u001b[0m\u001b[0;34m.\u001b[0m\u001b[0m_jvm\u001b[0m\u001b[0;34m.\u001b[0m\u001b[0mcom\u001b[0m\u001b[0;34m.\u001b[0m\u001b[0mvfive\u001b[0m\u001b[0;34m.\u001b[0m\u001b[0mspark\u001b[0m\u001b[0;34m.\u001b[0m\u001b[0mml\u001b[0m\u001b[0;34m.\u001b[0m\u001b[0mSparkMLTree\u001b[0m\u001b[0;34m(\u001b[0m\u001b[0mtreeModel\u001b[0m\u001b[0;34m.\u001b[0m\u001b[0m_java_obj\u001b[0m\u001b[0;34m)\u001b[0m\u001b[0;34m\u001b[0m\u001b[0;34m\u001b[0m\u001b[0m\n\u001b[0m",
      "\u001b[0;32m~/.local/lib/python3.8/site-packages/pyspark/sql/dataframe.py\u001b[0m in \u001b[0;36m__getattr__\u001b[0;34m(self, name)\u001b[0m\n\u001b[1;32m   1641\u001b[0m         \"\"\"\n\u001b[1;32m   1642\u001b[0m         \u001b[0;32mif\u001b[0m \u001b[0mname\u001b[0m \u001b[0;32mnot\u001b[0m \u001b[0;32min\u001b[0m \u001b[0mself\u001b[0m\u001b[0;34m.\u001b[0m\u001b[0mcolumns\u001b[0m\u001b[0;34m:\u001b[0m\u001b[0;34m\u001b[0m\u001b[0;34m\u001b[0m\u001b[0m\n\u001b[0;32m-> 1643\u001b[0;31m             raise AttributeError(\n\u001b[0m\u001b[1;32m   1644\u001b[0m                 \"'%s' object has no attribute '%s'\" % (self.__class__.__name__, name))\n\u001b[1;32m   1645\u001b[0m         \u001b[0mjc\u001b[0m \u001b[0;34m=\u001b[0m \u001b[0mself\u001b[0m\u001b[0;34m.\u001b[0m\u001b[0m_jdf\u001b[0m\u001b[0;34m.\u001b[0m\u001b[0mapply\u001b[0m\u001b[0;34m(\u001b[0m\u001b[0mname\u001b[0m\u001b[0;34m)\u001b[0m\u001b[0;34m\u001b[0m\u001b[0;34m\u001b[0m\u001b[0m\n",
      "\u001b[0;31mAttributeError\u001b[0m: 'DataFrame' object has no attribute '_jvm'"
     ]
    }
   ],
   "source": [
    "json_tree = data._jvm.com.vfive.spark.ml.SparkMLTree(treeModel._java_obj)"
   ]
  },
  {
   "cell_type": "code",
   "execution_count": null,
   "id": "b24fc9d4",
   "metadata": {},
   "outputs": [],
   "source": []
  },
  {
   "cell_type": "code",
   "execution_count": 22,
   "id": "65db5289",
   "metadata": {},
   "outputs": [],
   "source": [
    "from pydotplus import graph_from_dot_data\n",
    "from sklearn.tree import export_graphviz"
   ]
  },
  {
   "cell_type": "code",
   "execution_count": 47,
   "id": "252c5cd5",
   "metadata": {},
   "outputs": [
    {
     "ename": "NotFittedError",
     "evalue": "This DecisionTreeClassifier instance is not fitted yet. Call 'fit' with appropriate arguments before using this estimator.",
     "output_type": "error",
     "traceback": [
      "\u001b[0;31m---------------------------------------------------------------------------\u001b[0m",
      "\u001b[0;31mNotFittedError\u001b[0m                            Traceback (most recent call last)",
      "\u001b[0;32m/tmp/ipykernel_4637/2924935758.py\u001b[0m in \u001b[0;36m<module>\u001b[0;34m\u001b[0m\n\u001b[1;32m      8\u001b[0m             ]\n\u001b[1;32m      9\u001b[0m \u001b[0mTarget\u001b[0m \u001b[0;34m=\u001b[0m \u001b[0;34m[\u001b[0m\u001b[0;34m'1'\u001b[0m\u001b[0;34m,\u001b[0m\u001b[0;34m'2'\u001b[0m\u001b[0;34m,\u001b[0m\u001b[0;34m'3'\u001b[0m\u001b[0;34m]\u001b[0m\u001b[0;34m\u001b[0m\u001b[0;34m\u001b[0m\u001b[0m\n\u001b[0;32m---> 10\u001b[0;31m dot_data = export_graphviz(dt, out_file= \"tree1.dot\", class_names= Target,\n\u001b[0m\u001b[1;32m     11\u001b[0m                           feature_names= list_name,impurity=False, filled= True)\n",
      "\u001b[0;32m~/.local/lib/python3.8/site-packages/sklearn/tree/_export.py\u001b[0m in \u001b[0;36mexport_graphviz\u001b[0;34m(decision_tree, out_file, max_depth, feature_names, class_names, label, filled, leaves_parallel, impurity, node_ids, proportion, rotate, rounded, special_characters, precision, fontname)\u001b[0m\n\u001b[1;32m    859\u001b[0m     \"\"\"\n\u001b[1;32m    860\u001b[0m \u001b[0;34m\u001b[0m\u001b[0m\n\u001b[0;32m--> 861\u001b[0;31m     \u001b[0mcheck_is_fitted\u001b[0m\u001b[0;34m(\u001b[0m\u001b[0mdecision_tree\u001b[0m\u001b[0;34m)\u001b[0m\u001b[0;34m\u001b[0m\u001b[0;34m\u001b[0m\u001b[0m\n\u001b[0m\u001b[1;32m    862\u001b[0m     \u001b[0mown_file\u001b[0m \u001b[0;34m=\u001b[0m \u001b[0;32mFalse\u001b[0m\u001b[0;34m\u001b[0m\u001b[0;34m\u001b[0m\u001b[0m\n\u001b[1;32m    863\u001b[0m     \u001b[0mreturn_string\u001b[0m \u001b[0;34m=\u001b[0m \u001b[0;32mFalse\u001b[0m\u001b[0;34m\u001b[0m\u001b[0;34m\u001b[0m\u001b[0m\n",
      "\u001b[0;32m~/.local/lib/python3.8/site-packages/sklearn/utils/validation.py\u001b[0m in \u001b[0;36mcheck_is_fitted\u001b[0;34m(estimator, attributes, msg, all_or_any)\u001b[0m\n\u001b[1;32m   1207\u001b[0m \u001b[0;34m\u001b[0m\u001b[0m\n\u001b[1;32m   1208\u001b[0m     \u001b[0;32mif\u001b[0m \u001b[0;32mnot\u001b[0m \u001b[0mfitted\u001b[0m\u001b[0;34m:\u001b[0m\u001b[0;34m\u001b[0m\u001b[0;34m\u001b[0m\u001b[0m\n\u001b[0;32m-> 1209\u001b[0;31m         \u001b[0;32mraise\u001b[0m \u001b[0mNotFittedError\u001b[0m\u001b[0;34m(\u001b[0m\u001b[0mmsg\u001b[0m \u001b[0;34m%\u001b[0m \u001b[0;34m{\u001b[0m\u001b[0;34m\"name\"\u001b[0m\u001b[0;34m:\u001b[0m \u001b[0mtype\u001b[0m\u001b[0;34m(\u001b[0m\u001b[0mestimator\u001b[0m\u001b[0;34m)\u001b[0m\u001b[0;34m.\u001b[0m\u001b[0m__name__\u001b[0m\u001b[0;34m}\u001b[0m\u001b[0;34m)\u001b[0m\u001b[0;34m\u001b[0m\u001b[0;34m\u001b[0m\u001b[0m\n\u001b[0m\u001b[1;32m   1210\u001b[0m \u001b[0;34m\u001b[0m\u001b[0m\n\u001b[1;32m   1211\u001b[0m \u001b[0;34m\u001b[0m\u001b[0m\n",
      "\u001b[0;31mNotFittedError\u001b[0m: This DecisionTreeClassifier instance is not fitted yet. Call 'fit' with appropriate arguments before using this estimator."
     ]
    }
   ],
   "source": [
    "list_name = [\"Edad\",\n",
    "             \"Enfermedades\",\n",
    "             \"Accidente_o_trauma\",\n",
    "             \"Intervencion_quirurgica\",\n",
    "              \"Frecuencia_Consumo_Alcohol\",\n",
    "             \"Tabaquismo\",\n",
    "             \"num_Horas_Sentados\"\n",
    "            ]\n",
    "Target = ['1','2','3']\n",
    "dot_data = export_graphviz(dt, out_file= \"tree1.dot\", class_names= Target,\n",
    "                          feature_names= list_name,impurity=False, filled= True)\n"
   ]
  },
  {
   "cell_type": "code",
   "execution_count": null,
   "id": "7b8754fc",
   "metadata": {},
   "outputs": [],
   "source": [
    "~$ spark-shell/pyspark/spark-submit --packages julioasotodv:spark-tree-plotting:0.2\n"
   ]
  },
  {
   "cell_type": "code",
   "execution_count": 48,
   "id": "d2840823",
   "metadata": {},
   "outputs": [
    {
     "data": {
      "text/plain": [
       "11"
      ]
     },
     "execution_count": 48,
     "metadata": {},
     "output_type": "execute_result"
    }
   ],
   "source": [
    "treeModel.numNodes"
   ]
  },
  {
   "cell_type": "code",
   "execution_count": null,
   "id": "3d65ae21",
   "metadata": {},
   "outputs": [],
   "source": []
  },
  {
   "cell_type": "code",
   "execution_count": null,
   "id": "2583dd0b",
   "metadata": {},
   "outputs": [],
   "source": []
  },
  {
   "cell_type": "code",
   "execution_count": 40,
   "id": "5da9b325",
   "metadata": {},
   "outputs": [
    {
     "name": "stdout",
     "output_type": "stream",
     "text": [
      "root\n",
      " |-- epoca: double (nullable = true)\n",
      " |-- edad: double (nullable = true)\n",
      " |-- enfermedades: integer (nullable = true)\n",
      " |-- accidente_o_trauma: integer (nullable = true)\n",
      " |-- intervencion_quirurgica: integer (nullable = true)\n",
      " |-- fiebre: integer (nullable = true)\n",
      " |-- frecuencia: double (nullable = true)\n",
      " |-- tabaquismo: integer (nullable = true)\n",
      " |-- num_Horas_sentados: double (nullable = true)\n",
      " |-- diagnostico: string (nullable = true)\n",
      "\n",
      "+-----+----+------------+------------------+-----------------------+------+----------+----------+------------------+-----------+\n",
      "|epoca|edad|enfermedades|accidente_o_trauma|intervencion_quirurgica|fiebre|frecuencia|tabaquismo|num_Horas_sentados|diagnostico|\n",
      "+-----+----+------------+------------------+-----------------------+------+----------+----------+------------------+-----------+\n",
      "|-0.33|0.94|           1|                 0|                      1|     0|       0.8|         1|              0.31|          O|\n",
      "|-0.33| 0.5|           1|                 0|                      0|     0|       1.0|        -1|               0.5|          N|\n",
      "|-0.33|0.75|           0|                 1|                      1|     0|       1.0|        -1|              0.38|          N|\n",
      "|-0.33|0.67|           1|                 1|                      0|     0|       0.8|        -1|               0.5|          O|\n",
      "|-0.33|0.67|           1|                 0|                      1|     0|       0.8|         0|               0.5|          N|\n",
      "|-0.33|0.67|           0|                 0|                      0|    -1|       0.8|        -1|              0.44|          N|\n",
      "|-0.33| 1.0|           1|                 1|                      1|     0|       0.6|        -1|              0.38|          N|\n",
      "|  1.0|0.64|           0|                 0|                      1|     0|       0.8|        -1|              0.25|          N|\n",
      "|  1.0|0.61|           1|                 0|                      0|     0|       1.0|        -1|              0.25|          N|\n",
      "|  1.0|0.67|           1|                 1|                      0|    -1|       0.8|         0|              0.31|          N|\n",
      "|  1.0|0.78|           1|                 1|                      1|     0|       0.6|         0|              0.13|          N|\n",
      "|  1.0|0.75|           1|                 1|                      1|     0|       0.8|         1|              0.25|          N|\n",
      "|  1.0|0.81|           1|                 0|                      0|     0|       1.0|        -1|              0.38|          N|\n",
      "|  1.0|0.94|           1|                 1|                      1|     0|       0.2|        -1|              0.25|          N|\n",
      "|  1.0|0.81|           1|                 1|                      0|     0|       1.0|         1|               0.5|          N|\n",
      "|  1.0|0.64|           1|                 0|                      1|     0|       1.0|        -1|              0.38|          N|\n",
      "|  1.0|0.69|           1|                 0|                      1|     0|       0.8|        -1|              0.25|          O|\n",
      "|  1.0|0.75|           1|                 1|                      1|     0|       1.0|         1|              0.25|          N|\n",
      "|  1.0|0.67|           1|                 0|                      0|     0|       0.8|         1|              0.38|          O|\n",
      "|  1.0|0.67|           0|                 0|                      1|     0|       0.8|        -1|              0.25|          N|\n",
      "+-----+----+------------+------------------+-----------------------+------+----------+----------+------------------+-----------+\n",
      "only showing top 20 rows\n",
      "\n"
     ]
    },
    {
     "name": "stderr",
     "output_type": "stream",
     "text": [
      "21/11/24 20:59:02 WARN CSVHeaderChecker: CSV header does not conform to the schema.\n",
      " Header: -0.33, 0.69, 0, 1, 1, 0, 0.8, 0, 0.88, N\n",
      " Schema: -0.33, 0.69, 02, 13, 14, 05, 0.8, 07, 0.88, N\n",
      "Expected: 02 but found: 0\n",
      "CSV file: file:///home/angel/Documents/notebooks/fertility_Diagnosis.txt\n"
     ]
    }
   ],
   "source": [
    "#newdata = data.selectExpr(\"-0.33 as epoca\",\"0.69 as edad\"\n",
    "#data = data.select(col(\"-0.33\").alias(\"epoca\"),col(\"02\").alias(\"e\"),col(\"13\").alias(\"d\"),col(\"14\").alias(\"a\"),col(\"05\").alias(\"b\"),col(\"0.8\").alias(\"c\"),col(\"07\").alias(\"e\"),col(\"0.88\").alias(\"f\"),col(\"n\").alias(\"g\"))\n",
    "#data.show(5)\n",
    "from functools import reduce\n",
    "\n",
    "oldColumns = data.schema.names\n",
    "newColumns = [\"epoca\", \"edad\",\"enfermedades\",\"accidente_o_trauma\",\"intervencion_quirurgica\",\"fiebre\",\"frecuencia\",\"tabaquismo\",\"num_Horas_sentados\",\"diagnostico\"]\n",
    "\n",
    "df = reduce(lambda data, idx: data.withColumnRenamed(oldColumns[idx], newColumns[idx]), range(len(oldColumns)), data)\n",
    "df.printSchema()\n",
    "df.show()"
   ]
  },
  {
   "cell_type": "code",
   "execution_count": null,
   "id": "1e017902",
   "metadata": {},
   "outputs": [],
   "source": []
  }
 ],
 "metadata": {
  "kernelspec": {
   "display_name": "Python 3 (ipykernel)",
   "language": "python",
   "name": "python3"
  },
  "language_info": {
   "codemirror_mode": {
    "name": "ipython",
    "version": 3
   },
   "file_extension": ".py",
   "mimetype": "text/x-python",
   "name": "python",
   "nbconvert_exporter": "python",
   "pygments_lexer": "ipython3",
   "version": "3.8.10"
  }
 },
 "nbformat": 4,
 "nbformat_minor": 5
}
